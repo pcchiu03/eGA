{
 "cells": [
  {
   "cell_type": "code",
   "execution_count": 1,
   "metadata": {},
   "outputs": [
    {
     "data": {
      "text/html": [
       "<img src=\"https://mermaid.ink/svg/CiAgICBjbGFzc0RpYWdyYW0KICAgICAgICBjbGFzcyBPcGVyYXRpb24gewogICAgICAgICAgICAraW50IGpvYgogICAgICAgICAgICAraW50IG9wX2lkCiAgICAgICAgICAgICtkaWN0IG1hY2hpbmVfdGltZXMKICAgICAgICAgICAgK19faW5pdF9fKGpvYjogaW50LCBvcF9pZDogaW50LCBtYWNoaW5lX3RpbWVzOiBkaWN0KQogICAgICAgIH0KICAgICAgICBjbGFzcyBGSlNQIHsKICAgICAgICAgICAgK2ludCBqb2JzCiAgICAgICAgICAgICtpbnQgbWFjaGluZXMKICAgICAgICAgICAgK0xpc3RbTGlzdFtPcGVyYXRpb25dXSBvcGVyYXRpb25zCiAgICAgICAgICAgICtpbnQgdG90YWxfb3BlcmF0aW9ucwogICAgICAgICAgICArX19pbml0X18oam9iczogaW50LCBtYWNoaW5lczogaW50LCBvcGVyYXRpb25zOiBMaXN0W0xpc3RbT3BlcmF0aW9uXV0pCiAgICAgICAgfQogICAgICAgIGNsYXNzIENocm9tb3NvbWUgewogICAgICAgICAgICArTGlzdFtpbnRdIG1zCiAgICAgICAgICAgICtMaXN0W2ludF0gb3MKICAgICAgICAgICAgK19faW5pdF9fKG1zOiBMaXN0W2ludF0sIG9zOiBMaXN0W2ludF0pCiAgICAgICAgfQogICAgICAgIGNsYXNzIEdBIHsKICAgICAgICAgICAgK0ZKU1AgZmpzcAogICAgICAgICAgICAraW50IHBvcF9zaXplCiAgICAgICAgICAgICtpbnQgZ2VuZXJhdGlvbnMKICAgICAgICAgICAgK2Zsb2F0IGNyb3Nzb3Zlcl9yYXRlCiAgICAgICAgICAgICtmbG9hdCBtdXRhdGlvbl9yYXRlCiAgICAgICAgICAgICtMaXN0W2ludF0gYmVzdF9tYWtlc3BhbnMKICAgICAgICAgICAgK19faW5pdF9fKGZqc3A6IEZKU1AsIHBvcF9zaXplOiBpbnQsIGdlbmVyYXRpb25zOiBpbnQsIGNyb3Nzb3Zlcl9yYXRlOiBmbG9hdCwgbXV0YXRpb25fcmF0ZTogZmxvYXQpCiAgICAgICAgICAgICtpbml0aWFsaXplKCkgTGlzdFtDaHJvbW9zb21lXQogICAgICAgICAgICArdG91cm5hbWVudF9zZWxlY3Rpb24ocG9wdWxhdGlvbjogTGlzdFtDaHJvbW9zb21lXSkgQ2hyb21vc29tZQogICAgICAgICAgICArY3Jvc3NvdmVyKHBhcmVudDE6IENocm9tb3NvbWUsIHBhcmVudDI6IENocm9tb3NvbWUpIENocm9tb3NvbWUKICAgICAgICAgICAgK211dGF0aW9uKGNocm9tb3NvbWU6IENocm9tb3NvbWUpIENocm9tb3NvbWUKICAgICAgICAgICAgK2RlY29kZShjaHJvbW9zb21lOiBDaHJvbW9zb21lKSBMaXN0W1R1cGxlXQogICAgICAgICAgICArZXZhbHVhdGUoY2hyb21vc29tZTogQ2hyb21vc29tZSkgaW50CiAgICAgICAgICAgICtydW4oKSBUdXBsZVtMaXN0W1R1cGxlXSwgaW50XQogICAgICAgIH0KICAgICAgICBPcGVyYXRpb24gIm1hbnkiIC0tICIxIiBGSlNQOiBjb250YWlucwogICAgICAgIEZKU1AgIjEiIC0tICIxIiBHQTogdXNlcwogICAgICAgIENocm9tb3NvbWUgIm1hbnkiIC0tICIxIiBHQTogbWFuYWdlcwogICAgICAgIENocm9tb3NvbWUgLS0+IE9wZXJhdGlvbjogcmVmZXJlbmNlcwogICAg\" alt=\"Mermaid Class Diagram\"/>"
      ],
      "text/plain": [
       "<IPython.core.display.HTML object>"
      ]
     },
     "metadata": {},
     "output_type": "display_data"
    },
    {
     "name": "stdout",
     "output_type": "stream",
     "text": [
      "The UML diagram had already been saved as '/Users/pao/Desktop/GA/fig/eGA_UML_diagram.svg'\n"
     ]
    }
   ],
   "source": [
    "\"\"\"\n",
    "Author: Chiu, Pao-Chang\n",
    "Created time: 2024-11-25\n",
    "\n",
    "Purpose:\n",
    "This code is to generate the Mermaid class diagram for utilizing genetic algorithm (GA) \n",
    "to solve the flexible job-shop scheduling problem (FJSP) in the following paper.\n",
    "\n",
    "Reference:\n",
    "Zhang, G., Gao, L., & Shi, Y. (2011). An effective genetic algorithm for the flexible job-shop scheduling problem. \n",
    "Expert Systems with Applications, 38(4), 3563–3573.\n",
    "\"\"\"\n",
    "\n",
    "import requests\n",
    "import base64\n",
    "import IPython.display\n",
    "\n",
    "\n",
    "def display_class_diagram(format=\"svg\", save_file=False, filename=\"UML_diagram\"):\n",
    "    \"\"\"\n",
    "    input\n",
    "    - format      : choose to display the image in \"svg\" or \"png\" format\n",
    "    - save_file   : whether to save the image or not (defualt = False)\n",
    "    - filename    : specify the desired filename for saving the image (defualt = \"UML_diagram\")\n",
    "    \"\"\"\n",
    "\n",
    "    if format not in [\"svg\", \"img\"]:\n",
    "        raise ValueError(\"Invalid format. Choose 'svg' or 'img'.\")\n",
    "\n",
    "    mermaid_code = \"\"\"\n",
    "    classDiagram\n",
    "        class Operation {\n",
    "            +int job\n",
    "            +int op_id\n",
    "            +dict machine_times\n",
    "            +__init__(job: int, op_id: int, machine_times: dict)\n",
    "        }\n",
    "        class FJSP {\n",
    "            +int jobs\n",
    "            +int machines\n",
    "            +List[List[Operation]] operations\n",
    "            +int total_operations\n",
    "            +__init__(jobs: int, machines: int, operations: List[List[Operation]])\n",
    "        }\n",
    "        class Chromosome {\n",
    "            +List[int] ms\n",
    "            +List[int] os\n",
    "            +__init__(ms: List[int], os: List[int])\n",
    "        }\n",
    "        class GA {\n",
    "            +FJSP fjsp\n",
    "            +int pop_size\n",
    "            +int generations\n",
    "            +float crossover_rate\n",
    "            +float mutation_rate\n",
    "            +List[int] best_makespans\n",
    "            +__init__(fjsp: FJSP, pop_size: int, generations: int, crossover_rate: float, mutation_rate: float)\n",
    "            +initialize() List[Chromosome]\n",
    "            +tournament_selection(population: List[Chromosome]) Chromosome\n",
    "            +crossover(parent1: Chromosome, parent2: Chromosome) Chromosome\n",
    "            +mutation(chromosome: Chromosome) Chromosome\n",
    "            +decode(chromosome: Chromosome) List[Tuple]\n",
    "            +evaluate(chromosome: Chromosome) int\n",
    "            +run() Tuple[List[Tuple], int]\n",
    "        }\n",
    "        Operation \"many\" -- \"1\" FJSP: contains\n",
    "        FJSP \"1\" -- \"1\" GA: uses\n",
    "        Chromosome \"many\" -- \"1\" GA: manages\n",
    "        Chromosome --> Operation: references\n",
    "    \"\"\"\n",
    "\n",
    "    encoded_diagram = base64.b64encode(mermaid_code.encode(\"utf-8\")).decode(\"utf-8\")\n",
    "    mermaid_url = f\"https://mermaid.ink/{format}/{encoded_diagram}\"\n",
    "\n",
    "    IPython.display.display(\n",
    "        IPython.display.HTML(f'<img src=\"{mermaid_url}\" alt=\"Mermaid Class Diagram\"/>')\n",
    "    )\n",
    "\n",
    "    if save_file:\n",
    "        response = requests.get(mermaid_url)\n",
    "        if response.status_code == 200:\n",
    "            extension = \"svg\" if format == \"svg\" else \"png\"\n",
    "            full_filename = f\"/Users/pao/Desktop/GA/fig/{filename}.{extension}\"\n",
    "            with open(full_filename, \"wb\") as file:\n",
    "                file.write(response.content)\n",
    "            print(f\"The UML diagram had already been saved as '{full_filename}'\")\n",
    "        else:\n",
    "            print(\"Failed to download the diagram. Check the Mermaid URL.\")\n",
    "\n",
    "\n",
    "display_class_diagram(format=\"svg\", save_file=True, filename=\"eGA_UML_diagram\")\n",
    "# display_class_diagram(format=\"svg\")\n",
    "# display_class_diagram(format=\"img\")"
   ]
  }
 ],
 "metadata": {
  "kernelspec": {
   "display_name": " /Users/pao/Library/Jupyter/kernels/env_name",
   "language": "python",
   "name": "env_name"
  },
  "language_info": {
   "codemirror_mode": {
    "name": "ipython",
    "version": 3
   },
   "file_extension": ".py",
   "mimetype": "text/x-python",
   "name": "python",
   "nbconvert_exporter": "python",
   "pygments_lexer": "ipython3",
   "version": "3.10.13"
  }
 },
 "nbformat": 4,
 "nbformat_minor": 2
}
